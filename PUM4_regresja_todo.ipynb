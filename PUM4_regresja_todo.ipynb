{
  "nbformat": 4,
  "nbformat_minor": 0,
  "metadata": {
    "colab": {
      "provenance": [],
      "include_colab_link": true
    },
    "kernelspec": {
      "name": "python3",
      "display_name": "Python 3"
    },
    "language_info": {
      "name": "python"
    }
  },
  "cells": [
    {
      "cell_type": "markdown",
      "metadata": {
        "id": "view-in-github",
        "colab_type": "text"
      },
      "source": [
        "<a href=\"https://colab.research.google.com/github/Aerie55/lecture1/blob/main/PUM4_regresja_todo.ipynb\" target=\"_parent\"><img src=\"https://colab.research.google.com/assets/colab-badge.svg\" alt=\"Open In Colab\"/></a>"
      ]
    },
    {
      "cell_type": "markdown",
      "source": [
        "zaczytanie niezbędnych bibliotek"
      ],
      "metadata": {
        "id": "G-H2tGj_rHHK"
      }
    },
    {
      "cell_type": "code",
      "source": [
        "import numpy as np\n",
        "import pandas as pd\n",
        "import matplotlib.pyplot as plt\n",
        "from sklearn.linear_model import LinearRegression, Ridge, Lasso\n",
        "from sklearn.model_selection import train_test_split\n",
        "from sklearn.metrics import mean_squared_error, mean_absolute_error, r2_score, explained_variance_score\n",
        "from sklearn.preprocessing import StandardScaler\n",
        "from sklearn.preprocessing import LabelEncoder\n",
        "from sklearn.linear_model import RANSACRegressor\n",
        "from sklearn.linear_model import HuberRegressor"
      ],
      "metadata": {
        "id": "LXSU9M5cpqjr"
      },
      "execution_count": 85,
      "outputs": []
    },
    {
      "cell_type": "markdown",
      "source": [
        "zaczytaj dane dotyczace sprzedazy"
      ],
      "metadata": {
        "id": "1awwEGFVqI0a"
      }
    },
    {
      "cell_type": "code",
      "source": [
        "# pip install kagglehub[pandas-datasets]\n",
        "import kagglehub\n",
        "from kagglehub import KaggleDatasetAdapter\n",
        "\n",
        "# Set the path to the file you'd like to load\n",
        "file_path = \"Salary Data.csv\"\n",
        "\n",
        "# Load the latest version\n",
        "df = kagglehub.load_dataset(\n",
        "  KaggleDatasetAdapter.PANDAS,\n",
        "  \"rkiattisak/salaly-prediction-for-beginer\",\n",
        "  file_path,\n",
        "  # Provide any additional arguments like\n",
        "  # sql_query or pandas_kwargs. See the\n",
        "  # documenation for more information:\n",
        "  # https://github.com/Kaggle/kagglehub/blob/main/README.md#kaggledatasetadapterpandas\n",
        ")\n",
        "\n",
        "print(\"First 5 records:\", df.head())"
      ],
      "metadata": {
        "id": "Sm2mgUpAq7Gp",
        "colab": {
          "base_uri": "https://localhost:8080/"
        },
        "outputId": "61ad69fb-7b23-4f92-9a06-640b16dead87"
      },
      "execution_count": 86,
      "outputs": [
        {
          "output_type": "stream",
          "name": "stderr",
          "text": [
            "<ipython-input-86-72cc2aa30810>:9: DeprecationWarning: load_dataset is deprecated and will be removed in future version.\n",
            "  df = kagglehub.load_dataset(\n"
          ]
        },
        {
          "output_type": "stream",
          "name": "stdout",
          "text": [
            "First 5 records:     Age  Gender Education Level          Job Title  Years of Experience  \\\n",
            "0  32.0    Male      Bachelor's  Software Engineer                  5.0   \n",
            "1  28.0  Female        Master's       Data Analyst                  3.0   \n",
            "2  45.0    Male             PhD     Senior Manager                 15.0   \n",
            "3  36.0  Female      Bachelor's    Sales Associate                  7.0   \n",
            "4  52.0    Male        Master's           Director                 20.0   \n",
            "\n",
            "     Salary  \n",
            "0   90000.0  \n",
            "1   65000.0  \n",
            "2  150000.0  \n",
            "3   60000.0  \n",
            "4  200000.0  \n"
          ]
        }
      ]
    },
    {
      "cell_type": "markdown",
      "source": [
        "preprocessing\n",
        "\n",
        "1.   sprawdż typy danych\n",
        "2.   zmien etykiedy na zmienne liczbowe\n",
        "3. w przypadku brakujacych danych uzupelnij (w przypadku etykiet) najczesciej wystepującą wartością lub średnią wartością\n",
        "\n"
      ],
      "metadata": {
        "id": "xVJo9AwurLNH"
      }
    },
    {
      "cell_type": "code",
      "source": [
        "print(\"\\nTypy danych:\\n\", df.dtypes)\n",
        "\n",
        "categorical_columns = df.select_dtypes(include=['object']).columns"
      ],
      "metadata": {
        "colab": {
          "base_uri": "https://localhost:8080/"
        },
        "id": "RSutMGfWW3jO",
        "outputId": "633ecd7c-46e6-4075-8700-b679f6161955"
      },
      "execution_count": 87,
      "outputs": [
        {
          "output_type": "stream",
          "name": "stdout",
          "text": [
            "\n",
            "Typy danych:\n",
            " Age                    float64\n",
            "Gender                  object\n",
            "Education Level         object\n",
            "Job Title               object\n",
            "Years of Experience    float64\n",
            "Salary                 float64\n",
            "dtype: object\n"
          ]
        }
      ]
    },
    {
      "cell_type": "code",
      "source": [
        "col_to_change=[ 'Gender', 'Education Level', 'Job Title']\n",
        "for col in col_to_change:\n",
        "    le = LabelEncoder()\n",
        "    df[col] = le.fit_transform(df[col])\n",
        "print(df.head())"
      ],
      "metadata": {
        "colab": {
          "base_uri": "https://localhost:8080/"
        },
        "id": "lswM-LFhXpE6",
        "outputId": "9e60d276-7936-4552-b764-05f5c76235ca"
      },
      "execution_count": 88,
      "outputs": [
        {
          "output_type": "stream",
          "name": "stdout",
          "text": [
            "    Age  Gender  Education Level  Job Title  Years of Experience    Salary\n",
            "0  32.0       1                0        159                  5.0   90000.0\n",
            "1  28.0       0                1         17                  3.0   65000.0\n",
            "2  45.0       1                2        130                 15.0  150000.0\n",
            "3  36.0       0                0        101                  7.0   60000.0\n",
            "4  52.0       1                1         22                 20.0  200000.0\n"
          ]
        }
      ]
    },
    {
      "cell_type": "code",
      "source": [
        "null_counts = df.isnull().sum()\n",
        "\n",
        "print(\"\\nLiczba wartości null w każdej kolumnie:\\n\", null_counts)\n"
      ],
      "metadata": {
        "colab": {
          "base_uri": "https://localhost:8080/"
        },
        "id": "Kde0HdP2YEe8",
        "outputId": "8b36fcc0-1d69-42ef-e55b-9bf862ce8da0"
      },
      "execution_count": 89,
      "outputs": [
        {
          "output_type": "stream",
          "name": "stdout",
          "text": [
            "\n",
            "Liczba wartości null w każdej kolumnie:\n",
            " Age                    2\n",
            "Gender                 0\n",
            "Education Level        0\n",
            "Job Title              0\n",
            "Years of Experience    2\n",
            "Salary                 2\n",
            "dtype: int64\n"
          ]
        }
      ]
    },
    {
      "cell_type": "code",
      "source": [
        "df['Age'] = df['Age'].fillna(df['Age'].mean())\n",
        "df['Years of Experience'] = df['Years of Experience'].fillna(df['Years of Experience'].mean())\n",
        "df['Salary'] = df['Salary'].fillna(df['Salary'].mean())"
      ],
      "metadata": {
        "id": "XYJXDR9AYzmu"
      },
      "execution_count": 90,
      "outputs": []
    },
    {
      "cell_type": "markdown",
      "source": [
        "Podziel zbiór danych na testowy i treningowy w stosunku 30/70"
      ],
      "metadata": {
        "id": "ru2yFiYJr2jF"
      }
    },
    {
      "cell_type": "code",
      "source": [
        "X = df.drop('Salary', axis=1)\n",
        "y = df['Salary']\n",
        "X_train, X_test, y_train, y_test = train_test_split(X, y, test_size=0.3, random_state=42)"
      ],
      "metadata": {
        "id": "Qa3i7JvesOF5"
      },
      "execution_count": 91,
      "outputs": []
    },
    {
      "cell_type": "markdown",
      "source": [
        "Stworz model regresji liniowej korzystajac z parametrów domyślnych\n",
        "Przykład dokumentacji: https://scikit-learn.org/stable/auto_examples/linear_model/plot_ols.html#sphx-glr-auto-examples-linear-model-plot-ols-py"
      ],
      "metadata": {
        "id": "RFcl8kJdsQHz"
      }
    },
    {
      "cell_type": "code",
      "source": [
        "regressor = LinearRegression().fit(X_train, y_train)"
      ],
      "metadata": {
        "id": "C26uVzVUcDAR"
      },
      "execution_count": 92,
      "outputs": []
    },
    {
      "cell_type": "markdown",
      "source": [
        "ocen model na zbiorze testowym za pomocą miar: średni błąd kwadratowy, średni błąd absolutny, wynik wyjaśnionej wariancji"
      ],
      "metadata": {
        "id": "iuqRGy8Dshn5"
      }
    },
    {
      "cell_type": "code",
      "source": [
        "mse = mean_squared_error(y_test, y_pred)\n",
        "mae = mean_absolute_error(y_test, y_pred)\n",
        "evs = explained_variance_score(y_test, y_pred)\n",
        "\n",
        "print(f\"Mean Squared Error: {mse}\")\n",
        "print(f\"Mean Absolute Error: {mae}\")\n",
        "print(f\"Explained Variance Score: {evs}\")"
      ],
      "metadata": {
        "colab": {
          "base_uri": "https://localhost:8080/"
        },
        "id": "F0E_ph47ZhAA",
        "outputId": "4d9fc9d2-b8d2-4d9c-a0b1-f3c2e7b1b15d"
      },
      "execution_count": 93,
      "outputs": [
        {
          "output_type": "stream",
          "name": "stdout",
          "text": [
            "Mean Squared Error: 251384617.9839208\n",
            "Mean Absolute Error: 10976.816634914634\n",
            "Explained Variance Score: 0.8830175673765587\n"
          ]
        }
      ]
    },
    {
      "cell_type": "markdown",
      "source": [
        "spróbuj poprawić model, zacznij od danych, sprawdz korelacje, znormalizuj"
      ],
      "metadata": {
        "id": "ExaOoOu5u6q_"
      }
    },
    {
      "cell_type": "code",
      "source": [
        "correlation_matrix = df.corr()\n",
        "print(\"\\nMacierz korelacji:\\n\", correlation_matrix)"
      ],
      "metadata": {
        "colab": {
          "base_uri": "https://localhost:8080/"
        },
        "id": "xwg88IKvZ7kr",
        "outputId": "04700192-e5e8-4a49-e0c3-07f9413d00e8"
      },
      "execution_count": 94,
      "outputs": [
        {
          "output_type": "stream",
          "name": "stdout",
          "text": [
            "\n",
            "Macierz korelacji:\n",
            "                           Age    Gender  Education Level  Job Title  \\\n",
            "Age                  1.000000 -0.019865         0.546020   0.116616   \n",
            "Gender              -0.019865  1.000000         0.008677   0.041562   \n",
            "Education Level      0.546020  0.008677         1.000000   0.127791   \n",
            "Job Title            0.116616  0.041562         0.127791   1.000000   \n",
            "Years of Experience  0.979128  0.002818         0.573355   0.099299   \n",
            "Salary               0.922335  0.069498         0.650507   0.135033   \n",
            "\n",
            "                     Years of Experience    Salary  \n",
            "Age                             0.979128  0.922335  \n",
            "Gender                          0.002818  0.069498  \n",
            "Education Level                 0.573355  0.650507  \n",
            "Job Title                       0.099299  0.135033  \n",
            "Years of Experience             1.000000  0.930338  \n",
            "Salary                          0.930338  1.000000  \n"
          ]
        }
      ]
    },
    {
      "cell_type": "code",
      "source": [
        "for column in df.columns:\n",
        "  print(f\"Kolumna: {column}\")\n",
        "  print(f\"Maksimum: {df[column].max()}\")\n",
        "  print(f\"Minimum: {df[column].min()}\")\n",
        "  print(\"-\" * 20)"
      ],
      "metadata": {
        "id": "61wOBRqscU1R"
      },
      "execution_count": null,
      "outputs": []
    },
    {
      "cell_type": "code",
      "source": [
        "print(df[(df['Salary'] < 1000)])\n",
        "print(df[(df['Salary'] > 240000)])"
      ],
      "metadata": {
        "id": "x_fYDfskc2oe"
      },
      "execution_count": null,
      "outputs": []
    },
    {
      "cell_type": "code",
      "source": [
        "df = df[(df['Salary'] >= 1000) & (df['Salary'] <= 220000)]"
      ],
      "metadata": {
        "id": "lTL4Xq2wdztD"
      },
      "execution_count": 97,
      "outputs": []
    },
    {
      "cell_type": "markdown",
      "source": [
        "Zobrazowanie modelu regrecji liniowej"
      ],
      "metadata": {
        "id": "BjiH-FFDf4_S"
      }
    },
    {
      "cell_type": "code",
      "source": [
        "y_pred = regressor.predict(X_test)\n",
        "plt.figure(figsize=(10, 6))\n",
        "plt.scatter(y_test, y_pred)\n",
        "plt.xlabel(\"Faktyczne wartości\")\n",
        "plt.ylabel(\"Przewidywane wartości\")\n",
        "plt.title(\"Porównanie przewidywanych i faktycznych wartości\")\n",
        "plt.plot([y_test.min(), y_test.max()], [y_test.min(), y_test.max()], 'k--', lw=2)\n",
        "plt.show()\n"
      ],
      "metadata": {
        "id": "Tre33BBzf7tR"
      },
      "execution_count": null,
      "outputs": []
    },
    {
      "cell_type": "markdown",
      "source": [
        "Zbuduj model regresji odpornej i przetestuj jego predykcje"
      ],
      "metadata": {
        "id": "YVWhFj-mvRw0"
      }
    },
    {
      "cell_type": "code",
      "source": [
        "ransac = RANSACRegressor(LinearRegression(), max_trials=100, min_samples=50, residual_threshold=25000, random_state=42)\n",
        "ransac.fit(X_train, y_train)\n",
        "\n",
        "huber = HuberRegressor(epsilon=1.35, max_iter=100, alpha=0.0001)\n",
        "huber.fit(X_train, y_train)\n",
        "\n",
        "\n",
        "y_pred_ransac = ransac.predict(X_test)\n",
        "y_pred_huber = huber.predict(X_test)\n",
        "\n",
        "mse_ransac = mean_squared_error(y_test, y_pred_ransac)\n",
        "mae_ransac = mean_absolute_error(y_test, y_pred_ransac)\n",
        "evs_ransac = explained_variance_score(y_test, y_pred_ransac)\n",
        "\n",
        "mse_huber = mean_squared_error(y_test, y_pred_huber)\n",
        "mae_huber = mean_absolute_error(y_test, y_pred_huber)\n",
        "evs_huber = explained_variance_score(y_test, y_pred_huber)\n",
        "\n",
        "print(\"RANSAC:\")\n",
        "print(f\"Mean Squared Error: {mse_ransac}\")\n",
        "print(f\"Mean Absolute Error: {mae_ransac}\")\n",
        "print(f\"Explained Variance Score: {evs_ransac}\")\n",
        "\n",
        "print(\"\\nHuberRegressor:\")\n",
        "print(f\"Mean Squared Error: {mse_huber}\")\n",
        "print(f\"Mean Absolute Error: {mae_huber}\")\n",
        "print(f\"Explained Variance Score: {evs_huber}\")\n",
        "\n"
      ],
      "metadata": {
        "id": "wnrKoWmje878"
      },
      "execution_count": null,
      "outputs": []
    },
    {
      "cell_type": "markdown",
      "source": [
        "Wykreś przewidziane i faktyczne wartości obu modeli (przykład w dokumentacji: https://scikit-learn.org/stable/auto_examples/ensemble/plot_voting_regressor.html#sphx-glr-auto-examples-ensemble-plot-voting-regressor-py)"
      ],
      "metadata": {
        "id": "FuME6rMZt53Z"
      }
    },
    {
      "cell_type": "code",
      "source": [
        "plt.figure(figsize=(10, 6))\n",
        "plt.scatter(y_test, y_pred_ransac, label='RANSAC', alpha=0.7)\n",
        "plt.scatter(y_test, y_pred_huber, label='HuberRegressor', alpha=0.7)\n",
        "plt.plot([y_test.min(), y_test.max()], [y_test.min(), y_test.max()], 'k--', lw=2)\n",
        "plt.xlabel('Faktyczne wartości')\n",
        "plt.ylabel('Przewidziane wartości')\n",
        "plt.title('Porównanie przewidywanych i faktycznych wartości dla modeli RANSAC i HuberRegressor')\n",
        "plt.legend()\n",
        "plt.show()\n"
      ],
      "metadata": {
        "id": "oTrv9VJAfcJR"
      },
      "execution_count": null,
      "outputs": []
    },
    {
      "cell_type": "markdown",
      "source": [
        "Zmodyfikuj kod, zeby zwizualizować wynik lepszego z modeli"
      ],
      "metadata": {
        "id": "RODeXgYlusPI"
      }
    },
    {
      "cell_type": "code",
      "source": [
        "import matplotlib.pyplot as plt\n",
        "\n",
        "from sklearn.metrics import PredictionErrorDisplay\n",
        "\n",
        "\n",
        "fig, axs = plt.subplots(ncols=2, figsize=(8, 4))\n",
        "PredictionErrorDisplay.from_predictions(\n",
        "    y_test,\n",
        "    y_pred=y_pred_huber,\n",
        "    kind=\"actual_vs_predicted\",\n",
        "    subsample=100,\n",
        "    ax=axs[0],\n",
        "    random_state=0,\n",
        ")\n",
        "axs[0].set_title(\"Actual vs. Predicted values\")\n",
        "PredictionErrorDisplay.from_predictions(\n",
        "    y_test,\n",
        "    y_pred=y_pred_huber,\n",
        "    kind=\"residual_vs_predicted\",\n",
        "    subsample=100,\n",
        "    ax=axs[1],\n",
        "    random_state=0,\n",
        ")\n",
        "axs[1].set_title(\"Residuals vs. Predicted Values\")\n",
        "fig.suptitle(f\"Plotting cross-validated predictions HuberRegressor\")\n",
        "plt.tight_layout()\n",
        "plt.show()"
      ],
      "metadata": {
        "id": "DLVd2VkAuySx",
        "colab": {
          "base_uri": "https://localhost:8080/",
          "height": 413
        },
        "outputId": "b78c75b9-ac6d-4ca6-bcfe-6c6951854eed"
      },
      "execution_count": 110,
      "outputs": [
        {
          "output_type": "display_data",
          "data": {
            "text/plain": [
              "<Figure size 800x400 with 2 Axes>"
            ],
            "image/png": "[encoded data removed]"
          },
          "metadata": {}
        }
      ]
    }
  ]
}